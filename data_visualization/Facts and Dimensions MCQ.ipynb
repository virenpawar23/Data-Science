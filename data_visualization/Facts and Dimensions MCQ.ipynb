{
 "cells": [
  {
   "cell_type": "markdown",
   "id": "c60a617f",
   "metadata": {},
   "source": [
    "#### 1. Consider a bank having thousands of ATMs across India. In every transaction, the following variables are recorded:\n",
    "\n",
    "    a. Withdrawal amount\n",
    "    b. Account balance after withdrawal\n",
    "    c. Transaction charge amount\n",
    "    d. Customer ID\n",
    "    e. ATM ID\n",
    "    f. Date of withdrawal\n",
    "\n",
    "Which among the following are fact variables (mark all that apply)?\n",
    "\n",
    "<b>Answer</b>:\n",
    "    a. Withdrawal amount\n",
    "    b. Account balance after withdrawal\n",
    "    c. Transaction charge amount"
   ]
  },
  {
   "cell_type": "markdown",
   "id": "3cc002d9",
   "metadata": {},
   "source": [
    "#### 2. What are the benefits of having dimension variables apart from facts?\n",
    "\n",
    "More than one option may be correct.\n",
    "\n",
    "<b>Answer</b>:\n",
    "    a. Performing various types of analyses, such as sector-wise, country-wise or funding type-wise analyses.\n",
    "    b. Extracting specific, useful information such as the total investment made in the automobile sector in India between 2014 and 2015."
   ]
  },
  {
   "cell_type": "markdown",
   "id": "34ec7b06",
   "metadata": {},
   "source": [
    "<hr><hr>"
   ]
  }
 ],
 "metadata": {
  "kernelspec": {
   "display_name": "Python 3 (ipykernel)",
   "language": "python",
   "name": "python3"
  },
  "language_info": {
   "codemirror_mode": {
    "name": "ipython",
    "version": 3
   },
   "file_extension": ".py",
   "mimetype": "text/x-python",
   "name": "python",
   "nbconvert_exporter": "python",
   "pygments_lexer": "ipython3",
   "version": "3.9.7"
  }
 },
 "nbformat": 4,
 "nbformat_minor": 5
}
