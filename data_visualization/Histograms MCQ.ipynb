{
 "cells": [
  {
   "cell_type": "markdown",
   "id": "993004ac",
   "metadata": {},
   "source": [
    "#### 1. Plot a histogram for the Reviews column again and choose the correct option:\n",
    "\n",
    "<b>Answer</b>:\n",
    "    The peak is still at the beginning of the histogram.\n",
    "    <br>\n",
    "    plt.hist(inp1.Reviews)"
   ]
  },
  {
   "cell_type": "markdown",
   "id": "ec24721f",
   "metadata": {},
   "source": [
    "#### 2. Analysing the Installs Column\n",
    "Calculate the IQR of the Installs column.\n",
    "\n",
    "<b>Answer</b>: 9.9x10<sup>5</sup>\n",
    "<br>\n",
    "inp1.Installs.describe()"
   ]
  },
  {
   "cell_type": "markdown",
   "id": "c481eda6",
   "metadata": {},
   "source": [
    "#### 3. Now, remove all the apps which have the number of installs greater than 100 million. After that, evaluate the shape of the data and choose the correct option.\n",
    "\n",
    "<b>Answer</b>:\n",
    "    The resulting dataframe has 8624 records remaining.\n",
    "    <br>\n",
    "    inp1 = inp1[inp1.Installs <= 100000000]\n",
    "    <br>\n",
    "    inp1.shape"
   ]
  },
  {
   "cell_type": "markdown",
   "id": "f62ca980",
   "metadata": {},
   "source": [
    "#### 4. Analysing the Size Column\n",
    "Plot a histogram for the Size column and then choose the correct option.\n",
    "\n",
    "<b>Answer</b>:\n",
    "    A majority of apps have a size less than 30,000.\n",
    "    <br>\n",
    "    plt.hist(inp1.Size)"
   ]
  },
  {
   "cell_type": "markdown",
   "id": "60f3d4a1",
   "metadata": {},
   "source": [
    "#### 5. Analyse the size column using a boxplot and report back the approximate median value.\n",
    "\n",
    "<b>Answer</b>:\n",
    "    18,000\n",
    "    <br>\n",
    "    plt.boxplot(inp1.Size)\n",
    "    <br>\n",
    "    plt.show()"
   ]
  },
  {
   "cell_type": "markdown",
   "id": "e65620a3",
   "metadata": {},
   "source": [
    "#### 6. Histograms vs Bar Plots\n",
    "You have already studied bar plots in the previous module. Now it is a common misconception to confuse them with histograms. To understand the difference try analysing the following two situations and then choose the correct option:\n",
    "\n",
    " \n",
    "\n",
    "Situation A - You want to visualise the total number of runs scored by MS Dhoni in a single year against all the teams he has played against.\n",
    "\n",
    "Situation B - You want to visualise the spread of the runs scored by MS Dhoni in a single year.\n",
    "\n",
    "<b>Answer</b>:\n",
    "Situation A requires a bar plot whereas Situation B requires a histogram."
   ]
  },
  {
   "cell_type": "markdown",
   "id": "ac039092",
   "metadata": {},
   "source": [
    "<hr><hr>"
   ]
  }
 ],
 "metadata": {
  "kernelspec": {
   "display_name": "Python 3 (ipykernel)",
   "language": "python",
   "name": "python3"
  },
  "language_info": {
   "codemirror_mode": {
    "name": "ipython",
    "version": 3
   },
   "file_extension": ".py",
   "mimetype": "text/x-python",
   "name": "python",
   "nbconvert_exporter": "python",
   "pygments_lexer": "ipython3",
   "version": "3.9.7"
  }
 },
 "nbformat": 4,
 "nbformat_minor": 5
}
