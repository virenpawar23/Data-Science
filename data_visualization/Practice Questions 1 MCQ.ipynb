{
 "cells": [
  {
   "cell_type": "markdown",
   "id": "602203c2",
   "metadata": {},
   "source": [
    "#### 1.  Analyse the spread of runs scored by Virat in all his matches, and report the difference between the scores at the 50th percentile and the 25th percentile, respectively.\n",
    "\n",
    "<b>Answer</b>:\n",
    "    22.5"
   ]
  },
  {
   "cell_type": "markdown",
   "id": "fb9b1000",
   "metadata": {},
   "source": [
    "#### 2. Plot a Box Plot to analyse the spread of Runs that Virat has scored. The upper fence in the box plot lies in which interval?\n",
    "\n",
    "<b>Answer</b>:\n",
    "    140-160"
   ]
  },
  {
   "cell_type": "markdown",
   "id": "1c8d6797",
   "metadata": {},
   "source": [
    "#### 3. False Statement\n",
    "Consider the following statements and choose the correct option:\n",
    "I - Virat has played the maximum number of matches in 2011.\n",
    "II - Virat has the highest run average in the year 2017.\n",
    "III - Across all the years, Virat has scored his highest score in a single match and also has the highest run average in the same year - 2016.\n",
    "\n",
    "Which of the above statements is/are false?\n",
    "\n",
    "<b>Answer</b>:\n",
    "    II"
   ]
  },
  {
   "cell_type": "markdown",
   "id": "8e637456",
   "metadata": {},
   "source": [
    "#### 4. Maximum frequency\n",
    "Plot a histogram for the Mins column with 15 bins. Among the three ranges mentioned below, which one has the highest frequency?\n",
    "\n",
    "    A - [54.6,68)\n",
    "\n",
    "    B - [68,81.4)\n",
    "\n",
    "    C - [121.6,135)\n",
    "\n",
    "<b>Answer</b>:\n",
    "         C - [121.6,135)"
   ]
  },
  {
   "cell_type": "markdown",
   "id": "c2b8f844",
   "metadata": {},
   "source": [
    "<hr><hr>"
   ]
  }
 ],
 "metadata": {
  "kernelspec": {
   "display_name": "Python 3 (ipykernel)",
   "language": "python",
   "name": "python3"
  },
  "language_info": {
   "codemirror_mode": {
    "name": "ipython",
    "version": 3
   },
   "file_extension": ".py",
   "mimetype": "text/x-python",
   "name": "python",
   "nbconvert_exporter": "python",
   "pygments_lexer": "ipython3",
   "version": "3.9.7"
  }
 },
 "nbformat": 4,
 "nbformat_minor": 5
}
