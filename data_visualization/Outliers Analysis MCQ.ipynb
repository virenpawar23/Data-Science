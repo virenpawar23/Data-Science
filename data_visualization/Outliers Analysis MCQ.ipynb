{
 "cells": [
  {
   "cell_type": "markdown",
   "id": "3c75bb51",
   "metadata": {},
   "source": [
    "#### 1. For the given dataset, calculate the IQR of the Price column.\n",
    "\n",
    "<b>Answer</b>:\n",
    "    0"
   ]
  },
  {
   "cell_type": "markdown",
   "id": "47e2c1ae",
   "metadata": {},
   "source": [
    "<hr><hr>"
   ]
  }
 ],
 "metadata": {
  "kernelspec": {
   "display_name": "Python 3 (ipykernel)",
   "language": "python",
   "name": "python3"
  },
  "language_info": {
   "codemirror_mode": {
    "name": "ipython",
    "version": 3
   },
   "file_extension": ".py",
   "mimetype": "text/x-python",
   "name": "python",
   "nbconvert_exporter": "python",
   "pygments_lexer": "ipython3",
   "version": "3.9.7"
  }
 },
 "nbformat": 4,
 "nbformat_minor": 5
}
