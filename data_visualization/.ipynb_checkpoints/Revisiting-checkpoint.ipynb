{
 "cells": [
  {
   "cell_type": "markdown",
   "id": "13b20492",
   "metadata": {},
   "source": [
    "#### 1. Estimator\n",
    "Change the estimator function in the graph above to analyse minimum Rating for each of the different categories of ‘Content Rating’. Which category has the highest minimum rating?\n",
    "\n",
    "<b>Answer</b>:\n",
    "    Teen\n",
    "    <br>\n",
    "    sns.barplot(data=inp1, x=\"Content Rating\", y=\"Rating\", estimator = np.min)"
   ]
  },
  {
   "cell_type": "markdown",
   "id": "350cca0a",
   "metadata": {},
   "source": [
    "#### 2. Capping\n",
    "Plot a boxplot for the Rating column. The lower fence gets capped between\n",
    "\n",
    "<b>Answer</b>:\n",
    "    3.0 - 3.5"
   ]
  },
  {
   "cell_type": "markdown",
   "id": "3006f7c6",
   "metadata": {},
   "source": [
    "#### 3.Lower Fence\n",
    "For the 4 most popular Genres, plot a box plot and report back the Genre having the highest Rating at the lower fence.\n",
    "\n",
    "<b>Answer</b>:\n",
    "    Education\n",
    "    <br>\n",
    "    inp1['Genres'].value_counts()\n",
    "    <br>\n",
    "    c = ['Tools','Entertainment','Medical','Education']\n",
    "    <br>\n",
    "    inp5= inp1[inp1['Genres'].isin(c)]\n",
    "    <br>\n",
    "    sns.boxplot(inp5['Genres'],inp1.Rating)"
   ]
  },
  {
   "cell_type": "markdown",
   "id": "18143037",
   "metadata": {},
   "source": [
    "<hr><hr>"
   ]
  }
 ],
 "metadata": {
  "kernelspec": {
   "display_name": "Python 3 (ipykernel)",
   "language": "python",
   "name": "python3"
  },
  "language_info": {
   "codemirror_mode": {
    "name": "ipython",
    "version": 3
   },
   "file_extension": ".py",
   "mimetype": "text/x-python",
   "name": "python",
   "nbconvert_exporter": "python",
   "pygments_lexer": "ipython3",
   "version": "3.9.7"
  }
 },
 "nbformat": 4,
 "nbformat_minor": 5
}
