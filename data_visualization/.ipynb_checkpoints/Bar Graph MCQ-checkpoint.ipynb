{
 "cells": [
  {
   "cell_type": "markdown",
   "id": "cd2a0fc3",
   "metadata": {},
   "source": [
    "#### 1. How will you change the width of the bars in a bar graph?\n",
    "\n",
    "<b>Answer</b>:\n",
    "    matplotlib.pyplot.bar(x, y, width = 0.8)"
   ]
  },
  {
   "cell_type": "markdown",
   "id": "21f867f0",
   "metadata": {},
   "source": [
    "#### 2. Is it possible to have a separate colour for each category in a bar graph?\n",
    "\n",
    "<b>Answer</b>: Yes"
   ]
  },
  {
   "cell_type": "markdown",
   "id": "1b6b2580",
   "metadata": {},
   "source": [
    "<hr><hr>"
   ]
  }
 ],
 "metadata": {
  "kernelspec": {
   "display_name": "Python 3 (ipykernel)",
   "language": "python",
   "name": "python3"
  },
  "language_info": {
   "codemirror_mode": {
    "name": "ipython",
    "version": 3
   },
   "file_extension": ".py",
   "mimetype": "text/x-python",
   "name": "python",
   "nbconvert_exporter": "python",
   "pygments_lexer": "ipython3",
   "version": "3.9.7"
  }
 },
 "nbformat": 4,
 "nbformat_minor": 5
}
