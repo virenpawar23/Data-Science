{
 "cells": [
  {
   "cell_type": "markdown",
   "id": "5818ffe4",
   "metadata": {},
   "source": [
    "#### 1. As you learnt, in plt.subplot(), the numbering starts from the top-left element of the grid and moves rightward along each row. Out of the following subplots, which one does NOT represent a plot that is part of the second column from the left in the array of subplots?\n",
    "\n",
    "<b>Answer</b>:\n",
    "    plt.subplot(3,3,7)"
   ]
  },
  {
   "cell_type": "markdown",
   "id": "8f120190",
   "metadata": {},
   "source": [
    "<hr><hr>"
   ]
  }
 ],
 "metadata": {
  "kernelspec": {
   "display_name": "Python 3 (ipykernel)",
   "language": "python",
   "name": "python3"
  },
  "language_info": {
   "codemirror_mode": {
    "name": "ipython",
    "version": 3
   },
   "file_extension": ".py",
   "mimetype": "text/x-python",
   "name": "python",
   "nbconvert_exporter": "python",
   "pygments_lexer": "ipython3",
   "version": "3.9.7"
  }
 },
 "nbformat": 4,
 "nbformat_minor": 5
}
