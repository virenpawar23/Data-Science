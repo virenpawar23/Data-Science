{
 "cells": [
  {
   "cell_type": "markdown",
   "id": "0785c619",
   "metadata": {},
   "source": [
    "#### 1. Once you impute the missing values for Current Ver. as mentioned towards the end of the above video, answer the following question. If you’re having some difficulties in doing the same, check the feedback\n",
    "\n",
    "After the imputation step, how many values in Current Ver. are of the type “Varies with Device”?\n",
    "\n",
    "<b>Answer</b>:\n",
    "    1419"
   ]
  },
  {
   "cell_type": "markdown",
   "id": "bec2a609",
   "metadata": {},
   "source": [
    "<hr><hr>"
   ]
  }
 ],
 "metadata": {
  "kernelspec": {
   "display_name": "Python 3 (ipykernel)",
   "language": "python",
   "name": "python3"
  },
  "language_info": {
   "codemirror_mode": {
    "name": "ipython",
    "version": 3
   },
   "file_extension": ".py",
   "mimetype": "text/x-python",
   "name": "python",
   "nbconvert_exporter": "python",
   "pygments_lexer": "ipython3",
   "version": "3.9.7"
  }
 },
 "nbformat": 4,
 "nbformat_minor": 5
}
