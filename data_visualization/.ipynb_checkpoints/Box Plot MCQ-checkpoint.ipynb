{
 "cells": [
  {
   "cell_type": "markdown",
   "id": "41eed3d5",
   "metadata": {},
   "source": [
    "#### 1. Find the interquartile range for the box plot created over the following list:\n",
    "\n",
    "list_1 = [48.49, 67.54, 57.47, 68.17, 51.18, 68.31, 50.33, 66.7, 45.62, 43.59, 53.64, 70.08, 47.69, 61.27, 44.14, 51.62, 48.72, 65.11]\n",
    "[Hint: use np.percentile to find the percentile values]\n",
    "\n",
    "<b>Answer</b>:\n",
    "    48.55-66.30"
   ]
  },
  {
   "cell_type": "markdown",
   "id": "7a624945",
   "metadata": {},
   "source": [
    "#### 2. Which of the following plots can be used to show the relationship between two quantitative variables?\n",
    "\n",
    "    1. Box plot\n",
    "    2. Line plot\n",
    "    3. Scatter plot\n",
    "    4. Histogram\n",
    "    \n",
    "<b>Answer</b>:\n",
    "    2 and 3"
   ]
  },
  {
   "cell_type": "markdown",
   "id": "fd9cf38f",
   "metadata": {},
   "source": [
    "#### 3. You have some data of credit card transactions. In this data, you're trying to find transaction values that are way outside the usual data range, in order to investigate some fraud.\n",
    "Which type of plot will you use in this case?\n",
    "\n",
    "<b>Answer</b>:\n",
    "    Box Plot"
   ]
  },
  {
   "cell_type": "markdown",
   "id": "71496b13",
   "metadata": {},
   "source": [
    "<hr><hr>"
   ]
  }
 ],
 "metadata": {
  "kernelspec": {
   "display_name": "Python 3 (ipykernel)",
   "language": "python",
   "name": "python3"
  },
  "language_info": {
   "codemirror_mode": {
    "name": "ipython",
    "version": 3
   },
   "file_extension": ".py",
   "mimetype": "text/x-python",
   "name": "python",
   "nbconvert_exporter": "python",
   "pygments_lexer": "ipython3",
   "version": "3.9.7"
  }
 },
 "nbformat": 4,
 "nbformat_minor": 5
}
