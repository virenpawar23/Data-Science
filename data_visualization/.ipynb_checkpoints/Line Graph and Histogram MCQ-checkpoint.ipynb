{
 "cells": [
  {
   "cell_type": "markdown",
   "id": "386a2589",
   "metadata": {},
   "source": [
    "#### 1. Let's say 'x' and 'y' are two lists that you want to plot. You have initialised matplotlib.pyplot as plt. Now, you want to plot a blue line with cross (x) as markers for your points. What is the function call for this?\n",
    "\n",
    "<b>Answer</b>:\n",
    "    plt.plot(x, y, 'b', marker = 'x') plt.show()"
   ]
  },
  {
   "cell_type": "markdown",
   "id": "b5686328",
   "metadata": {},
   "source": [
    "#### 2. You are provided with a list of weights of individuals stored as float:\n",
    "\n",
    "list_1 = [48.49, 67.54, 57.47, 68.17, 51.18, 68.31, 50.33, 66.7, 45.62, 43.59, 53.64, 70.08, 47.69, 61.27, 44.14, 51.62, 48.72, 65.11]\n",
    "\n",
    "You want to check which bucket has maximum entries when divided into the following four groups:\n",
    "\n",
    "    a. [40-50)\n",
    "    b. [50-60)\n",
    "    c. [60-70)\n",
    "    d. [70-80)\n",
    "Which code will help you find the correct answer?\n",
    "\n",
    "<b>Answer</b>:\n",
    "    plt.hist(list_1, bins = 4, range =[40, 80], edgecolor = 'white')"
   ]
  },
  {
   "cell_type": "markdown",
   "id": "b2b11fec",
   "metadata": {},
   "source": [
    "<hr><hr>"
   ]
  }
 ],
 "metadata": {
  "kernelspec": {
   "display_name": "Python 3 (ipykernel)",
   "language": "python",
   "name": "python3"
  },
  "language_info": {
   "codemirror_mode": {
    "name": "ipython",
    "version": 3
   },
   "file_extension": ".py",
   "mimetype": "text/x-python",
   "name": "python",
   "nbconvert_exporter": "python",
   "pygments_lexer": "ipython3",
   "version": "3.9.7"
  }
 },
 "nbformat": 4,
 "nbformat_minor": 5
}
