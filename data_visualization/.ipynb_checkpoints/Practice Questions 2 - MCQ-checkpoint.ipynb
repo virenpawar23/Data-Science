{
 "cells": [
  {
   "cell_type": "markdown",
   "id": "088cef9a",
   "metadata": {},
   "source": [
    "### for coding logic - Refer \"HandsOn Practice Questions - Session 2 - Solved.ipynb\""
   ]
  },
  {
   "cell_type": "markdown",
   "id": "26c8e0d9",
   "metadata": {},
   "source": [
    "#### 1. Average\n",
    "The absolute difference in the average profit percentages of Delhi and Mumbai comes out to be approximately ____\n",
    "\n",
    "<b>Answer</b>:\n",
    "1.77"
   ]
  },
  {
   "cell_type": "markdown",
   "id": "6f8ae2fe",
   "metadata": {},
   "source": [
    "#### 2. Pair Plots\n",
    "Create a pair plot with all these columns and choose the correct statements from the given ones:\n",
    "\n",
    "I-There is a good trend between litecoin and monero, one increases as the other <br>\n",
    "II- There is a weak trend between bitcoin and neo.\n",
    "\n",
    "<b>Answer</b>:\n",
    "I"
   ]
  },
  {
   "cell_type": "markdown",
   "id": "c1ba7719",
   "metadata": {},
   "source": [
    "#### 3. Heatmap\n",
    "As mentioned earlier, HeatMaps are predominantly utilised for analysing Correlation Matrix. A high positive correlation (values near 1) means a good positive trend - if one increases, then the other also increases. A negative correlation on the other hand(values near -1) indicate good negative trend - if one increases, then the other decreases. A value near 0 indicates no correlation, as in one variable doesn’t affect the other. \n",
    "\n",
    "Create a correlation matrix for all the prices and then plot a heatmap to analyse the trends. Which of the following options is/are correct?\n",
    "\n",
    "<b>Answer</b>: <br>\n",
    "    1. Ethereum and Quantum have a high correlation. <br>\n",
    "    3. Ethereum has a similar correlation with litecoin and neo"
   ]
  },
  {
   "cell_type": "code",
   "execution_count": null,
   "id": "7ff5adb7",
   "metadata": {},
   "outputs": [],
   "source": []
  }
 ],
 "metadata": {
  "kernelspec": {
   "display_name": "Python 3 (ipykernel)",
   "language": "python",
   "name": "python3"
  },
  "language_info": {
   "codemirror_mode": {
    "name": "ipython",
    "version": 3
   },
   "file_extension": ".py",
   "mimetype": "text/x-python",
   "name": "python",
   "nbconvert_exporter": "python",
   "pygments_lexer": "ipython3",
   "version": "3.9.7"
  }
 },
 "nbformat": 4,
 "nbformat_minor": 5
}
