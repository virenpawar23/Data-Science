{
 "cells": [
  {
   "cell_type": "markdown",
   "id": "1afa878f",
   "metadata": {},
   "source": [
    "#### 1. If you want a view like the one shown below for the Rating column, the corresponding code that you would need to add would be?\n",
    "\n",
    "<b>Answer</b>:\n",
    "    sns.distplot(inp1.Rating,kde = False)"
   ]
  },
  {
   "cell_type": "markdown",
   "id": "957236e0",
   "metadata": {},
   "source": [
    "#### 2. Distplot bins\n",
    "Observe that there are certain gaps in the distplot view that we have shown above. This is because the number of bins created is quite high and hence some bins/buckets have no density at all. Now, you wish to set the number of bins to 15 to remove those gaps. Which of the following distplots shows the number of bins set to 15? (Click on the image to enlarge it)\n",
    "\n",
    "<b>Answer</b>:\n",
    "    B"
   ]
  },
  {
   "cell_type": "markdown",
   "id": "116aefcc",
   "metadata": {},
   "source": [
    "#### 1. Customise\n",
    "To get the following view, which parameter needs to be set correctly?\n",
    "\n",
    "<b>Answer</b>:\n",
    "    vertical = True"
   ]
  },
  {
   "cell_type": "markdown",
   "id": "b5df7883",
   "metadata": {},
   "source": [
    "<hr><hr>"
   ]
  }
 ],
 "metadata": {
  "kernelspec": {
   "display_name": "Python 3 (ipykernel)",
   "language": "python",
   "name": "python3"
  },
  "language_info": {
   "codemirror_mode": {
    "name": "ipython",
    "version": 3
   },
   "file_extension": ".py",
   "mimetype": "text/x-python",
   "name": "python",
   "nbconvert_exporter": "python",
   "pygments_lexer": "ipython3",
   "version": "3.9.7"
  }
 },
 "nbformat": 4,
 "nbformat_minor": 5
}
