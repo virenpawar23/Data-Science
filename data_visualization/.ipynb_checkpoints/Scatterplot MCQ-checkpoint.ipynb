{
 "cells": [
  {
   "cell_type": "markdown",
   "id": "29878c9c",
   "metadata": {},
   "source": [
    "#### 1.Select the cases where a scatterplot would be helpful in generating insights.\n",
    "\n",
    "<b>Answer</b>:<br>\n",
    "    1. To check whether a relationship exists between the age of a person and their income.<br>\n",
    "    2. To check whether stock prices are positively related to the profit of a company.\n",
    "    "
   ]
  },
  {
   "cell_type": "markdown",
   "id": "9edf5c71",
   "metadata": {},
   "source": [
    "#### 2. Which attribute helps set the transparency of points in a scatterplot?\n",
    "\n",
    "<b>Answer</b>:<br>\n",
    "   alpha"
   ]
  },
  {
   "cell_type": "markdown",
   "id": "73f29c21",
   "metadata": {},
   "source": [
    "<hr><hr>"
   ]
  }
 ],
 "metadata": {
  "kernelspec": {
   "display_name": "Python 3 (ipykernel)",
   "language": "python",
   "name": "python3"
  },
  "language_info": {
   "codemirror_mode": {
    "name": "ipython",
    "version": 3
   },
   "file_extension": ".py",
   "mimetype": "text/x-python",
   "name": "python",
   "nbconvert_exporter": "python",
   "pygments_lexer": "ipython3",
   "version": "3.9.7"
  }
 },
 "nbformat": 4,
 "nbformat_minor": 5
}
