{
 "cells": [
  {
   "cell_type": "markdown",
   "id": "c05cbf13",
   "metadata": {},
   "source": [
    "#### 1. What is the average Price for all the apps which have the Android version as “4.1 and up” ?\n",
    "\n",
    "<b>Answer</b>:\n",
    "    Some error comes up while calculating the value"
   ]
  },
  {
   "cell_type": "markdown",
   "id": "bd46313f",
   "metadata": {},
   "source": [
    "#### 2. After removing the additional symbols in the Installs column, calculate the approximate number of installs at the 50th percentile.\n",
    "\n",
    "<b>Answer</b>:\n",
    "    500,000"
   ]
  },
  {
   "cell_type": "markdown",
   "id": "28d56778",
   "metadata": {},
   "source": [
    "<hr><hr>"
   ]
  }
 ],
 "metadata": {
  "kernelspec": {
   "display_name": "Python 3 (ipykernel)",
   "language": "python",
   "name": "python3"
  },
  "language_info": {
   "codemirror_mode": {
    "name": "ipython",
    "version": 3
   },
   "file_extension": ".py",
   "mimetype": "text/x-python",
   "name": "python",
   "nbconvert_exporter": "python",
   "pygments_lexer": "ipython3",
   "version": "3.9.7"
  }
 },
 "nbformat": 4,
 "nbformat_minor": 5
}
