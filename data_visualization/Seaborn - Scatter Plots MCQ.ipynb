{
 "cells": [
  {
   "cell_type": "markdown",
   "id": "97cc2007",
   "metadata": {},
   "source": [
    "#### 1. Jointplot\n",
    "In case you want to remove the histogram/distribution plot appearing on the jointplot’s axes, the command that you need to use is?\n",
    "\n",
    "<b>Answer</b>:\n",
    "None of the above."
   ]
  },
  {
   "cell_type": "markdown",
   "id": "a377d2ef",
   "metadata": {},
   "source": [
    "<hr><hr>"
   ]
  }
 ],
 "metadata": {
  "kernelspec": {
   "display_name": "Python 3 (ipykernel)",
   "language": "python",
   "name": "python3"
  },
  "language_info": {
   "codemirror_mode": {
    "name": "ipython",
    "version": 3
   },
   "file_extension": ".py",
   "mimetype": "text/x-python",
   "name": "python",
   "nbconvert_exporter": "python",
   "pygments_lexer": "ipython3",
   "version": "3.9.7"
  }
 },
 "nbformat": 4,
 "nbformat_minor": 5
}
