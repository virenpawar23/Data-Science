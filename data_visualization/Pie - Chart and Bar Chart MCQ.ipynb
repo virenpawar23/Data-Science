{
 "cells": [
  {
   "cell_type": "markdown",
   "id": "6581fbd3",
   "metadata": {},
   "source": [
    "#### 1. Plot a bar plot for apps belonging to different types of ‘Android Ver’ and report back the category at the 4th highest peak.\n",
    "\n",
    "<b>Answer</b>:\n",
    "    Varies with device"
   ]
  },
  {
   "cell_type": "markdown",
   "id": "208b6965",
   "metadata": {},
   "source": [
    "<hr><hr>"
   ]
  }
 ],
 "metadata": {
  "kernelspec": {
   "display_name": "Python 3 (ipykernel)",
   "language": "python",
   "name": "python3"
  },
  "language_info": {
   "codemirror_mode": {
    "name": "ipython",
    "version": 3
   },
   "file_extension": ".py",
   "mimetype": "text/x-python",
   "name": "python",
   "nbconvert_exporter": "python",
   "pygments_lexer": "ipython3",
   "version": "3.9.7"
  }
 },
 "nbformat": 4,
 "nbformat_minor": 5
}
