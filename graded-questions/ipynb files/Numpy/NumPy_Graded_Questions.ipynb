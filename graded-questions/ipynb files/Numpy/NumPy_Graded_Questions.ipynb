{
 "cells": [
  {
   "cell_type": "code",
   "execution_count": 1,
   "id": "f2acbfe0",
   "metadata": {},
   "outputs": [],
   "source": [
    "import numpy as np"
   ]
  },
  {
   "cell_type": "markdown",
   "id": "447c1eb0",
   "metadata": {},
   "source": [
    "## 1. Index of 50th element\n",
    "Consider an (8, 8) shape NumPy array. What is the index (x,y) of the 50th element?\n",
    "\n",
    "Note: For counting the elements go row-wise. For example, in the array,\n",
    "\n",
    "[[1, 5, 9],\n",
    "\n",
    " [3, 0, 2]]\n",
    "\n",
    "the 5th element would be '0'."
   ]
  },
  {
   "cell_type": "code",
   "execution_count": 19,
   "id": "02d9b685",
   "metadata": {},
   "outputs": [],
   "source": [
    "df1 = np.arange(1,65).reshape((8,8))"
   ]
  },
  {
   "cell_type": "markdown",
   "id": "4d3dac57",
   "metadata": {},
   "source": [
    "#### Alternative: 1"
   ]
  },
  {
   "cell_type": "code",
   "execution_count": 17,
   "id": "434aa5cc",
   "metadata": {},
   "outputs": [
    {
     "data": {
      "text/plain": [
       "array([[6, 1]], dtype=int64)"
      ]
     },
     "execution_count": 17,
     "metadata": {},
     "output_type": "execute_result"
    }
   ],
   "source": [
    "np.argwhere(df1==50)"
   ]
  },
  {
   "cell_type": "markdown",
   "id": "f0352677",
   "metadata": {},
   "source": [
    "#### Alternative: 2"
   ]
  },
  {
   "cell_type": "code",
   "execution_count": 18,
   "id": "28a1e1c1",
   "metadata": {},
   "outputs": [
    {
     "data": {
      "text/plain": [
       "(6, 1)"
      ]
     },
     "execution_count": 18,
     "metadata": {},
     "output_type": "execute_result"
    }
   ],
   "source": [
    "np.unravel_index(49, (8,8))"
   ]
  },
  {
   "cell_type": "markdown",
   "id": "6bad91d7",
   "metadata": {},
   "source": [
    "<hr>"
   ]
  },
  {
   "cell_type": "markdown",
   "id": "5e130786",
   "metadata": {},
   "source": [
    "## 2. Slicing Arrays\n",
    "Which of the following would extract all the first 3 rows of the last 5 columns in a given numpy 2D array ‘a’?"
   ]
  },
  {
   "cell_type": "markdown",
   "id": "8e32cafc",
   "metadata": {},
   "source": [
    "#### Answer: -\n",
    "\n",
    "#### a[:3,-5:]"
   ]
  },
  {
   "cell_type": "markdown",
   "id": "bf1915c3",
   "metadata": {},
   "source": [
    "</hr>"
   ]
  },
  {
   "cell_type": "markdown",
   "id": "952dcc0e",
   "metadata": {},
   "source": [
    "<hr>"
   ]
  },
  {
   "cell_type": "markdown",
   "id": "8dc799f6",
   "metadata": {},
   "source": [
    "<hr>"
   ]
  },
  {
   "cell_type": "markdown",
   "id": "2f13a6c0",
   "metadata": {},
   "source": [
    "## 3. So Many Functions\n",
    "What will the output of np.arange(1,16,2).reshape(4, 2) be?"
   ]
  },
  {
   "cell_type": "code",
   "execution_count": 24,
   "id": "c2167d44",
   "metadata": {},
   "outputs": [
    {
     "data": {
      "text/plain": [
       "array([[ 1,  3],\n",
       "       [ 5,  7],\n",
       "       [ 9, 11],\n",
       "       [13, 15]])"
      ]
     },
     "execution_count": 24,
     "metadata": {},
     "output_type": "execute_result"
    }
   ],
   "source": [
    "np.arange(1,16,2).reshape(4, 2)"
   ]
  },
  {
   "cell_type": "markdown",
   "id": "e328f2ee",
   "metadata": {},
   "source": [
    "<hr>"
   ]
  },
  {
   "cell_type": "markdown",
   "id": "e5d250d0",
   "metadata": {},
   "source": [
    "## 4. Coding question"
   ]
  },
  {
   "cell_type": "code",
   "execution_count": 43,
   "id": "277b79e7",
   "metadata": {},
   "outputs": [
    {
     "name": "stdout",
     "output_type": "stream",
     "text": [
      "7\n"
     ]
    },
    {
     "data": {
      "text/plain": [
       "array([[0, 0, 0, 1, 0, 0, 0],\n",
       "       [0, 0, 0, 1, 0, 0, 0],\n",
       "       [0, 0, 0, 1, 0, 0, 0],\n",
       "       [1, 1, 1, 1, 1, 1, 1],\n",
       "       [0, 0, 0, 1, 0, 0, 0],\n",
       "       [0, 0, 0, 1, 0, 0, 0],\n",
       "       [0, 0, 0, 1, 0, 0, 0]])"
      ]
     },
     "execution_count": 43,
     "metadata": {},
     "output_type": "execute_result"
    }
   ],
   "source": [
    "import numpy as np \n",
    "\n",
    "n = int(input())\n",
    "mid = int(n/2)\n",
    "df = np.zeros((n,n),dtype=int)\n",
    "df[mid,:]=df[:,mid]=1\n",
    "df"
   ]
  },
  {
   "cell_type": "markdown",
   "id": "57b73e97",
   "metadata": {},
   "source": [
    "<hr>"
   ]
  },
  {
   "cell_type": "code",
   "execution_count": null,
   "id": "15bd7a0c",
   "metadata": {},
   "outputs": [],
   "source": []
  }
 ],
 "metadata": {
  "kernelspec": {
   "display_name": "Python 3 (ipykernel)",
   "language": "python",
   "name": "python3"
  },
  "language_info": {
   "codemirror_mode": {
    "name": "ipython",
    "version": 3
   },
   "file_extension": ".py",
   "mimetype": "text/x-python",
   "name": "python",
   "nbconvert_exporter": "python",
   "pygments_lexer": "ipython3",
   "version": "3.9.7"
  }
 },
 "nbformat": 4,
 "nbformat_minor": 5
}
