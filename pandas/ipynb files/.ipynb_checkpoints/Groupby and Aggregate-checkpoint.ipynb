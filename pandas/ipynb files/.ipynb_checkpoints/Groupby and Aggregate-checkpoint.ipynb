{
 "cells": [
  {
   "cell_type": "markdown",
   "id": "83cc5f3d",
   "metadata": {},
   "source": [
    "### Groupby function\n",
    "What does the function: dataframe.groupby() return without any aggregate function?\n",
    "\n",
    "Answer:- <br>\n",
    "<b>A Pandas object is created</b>"
   ]
  },
  {
   "cell_type": "code",
   "execution_count": 1,
   "id": "c9459cd5",
   "metadata": {},
   "outputs": [
    {
     "data": {
      "text/plain": [
       "<pandas.core.groupby.generic.DataFrameGroupBy object at 0x000002D5334CD250>"
      ]
     },
     "execution_count": 1,
     "metadata": {},
     "output_type": "execute_result"
    }
   ],
   "source": [
    "import pandas as pd\n",
    "pd.DataFrame({\"name\":[\"Tej\",\"Hiten\",\"Hitu\",\"Janu\"],\"gender\":[\"M\",\"M\",\"F\",\"F\"]}).groupby(\"gender\")"
   ]
  },
  {
   "cell_type": "markdown",
   "id": "f6e901ed",
   "metadata": {},
   "source": [
    "<hr>"
   ]
  },
  {
   "cell_type": "markdown",
   "id": "b8485b08",
   "metadata": {},
   "source": [
    "### Dataframe grouping\n",
    "Description - Group the dataframe 'df' by 'month' and 'day' and find the mean value for column 'rain' and 'wind'."
   ]
  },
  {
   "cell_type": "code",
   "execution_count": 2,
   "id": "9adc20a6",
   "metadata": {},
   "outputs": [
    {
     "name": "stdout",
     "output_type": "stream",
     "text": [
      "               rain      wind\n",
      "month day                    \n",
      "apr   fri  0.000000  3.100000\n",
      "      mon  0.000000  3.100000\n",
      "      sat  0.000000  4.500000\n",
      "      sun  0.000000  5.666667\n",
      "      thu  0.000000  5.800000\n",
      "      wed  0.000000  2.700000\n",
      "aug   fri  0.066667  4.766667\n",
      "      mon  0.000000  2.873333\n",
      "      sat  0.000000  4.310345\n",
      "      sun  0.025000  4.417500\n",
      "      thu  0.000000  3.503846\n",
      "      tue  0.300000  4.567857\n",
      "      wed  0.000000  3.520000\n",
      "dec   fri  0.000000  4.900000\n",
      "      mon  0.000000  8.500000\n",
      "      sun  0.000000  8.500000\n",
      "      thu  0.000000  4.900000\n",
      "      tue  0.000000  8.500000\n",
      "      wed  0.000000  8.000000\n",
      "feb   fri  0.000000  4.820000\n"
     ]
    }
   ],
   "source": [
    "import pandas as pd\n",
    "df = pd.read_csv('https://cdn.upgrad.com/uploads/production/b3467ba4-4e13-44e9-8087-4d7e94cc7586/forestfires.csv')\n",
    "\n",
    "df_1 = df.groupby(['month','day']).mean()[['rain','wind']]\n",
    "print(df_1.head(20))"
   ]
  },
  {
   "cell_type": "markdown",
   "id": "60fec50d",
   "metadata": {},
   "source": [
    "<hr>\n",
    "<hr>"
   ]
  }
 ],
 "metadata": {
  "kernelspec": {
   "display_name": "Python 3 (ipykernel)",
   "language": "python",
   "name": "python3"
  },
  "language_info": {
   "codemirror_mode": {
    "name": "ipython",
    "version": 3
   },
   "file_extension": ".py",
   "mimetype": "text/x-python",
   "name": "python",
   "nbconvert_exporter": "python",
   "pygments_lexer": "ipython3",
   "version": "3.9.7"
  }
 },
 "nbformat": 4,
 "nbformat_minor": 5
}
