{
 "cells": [
  {
   "cell_type": "markdown",
   "id": "50a3d315",
   "metadata": {},
   "source": [
    "### Command to create pivot tables in Pandas:\n",
    "<br><b>\n",
    "df.pivot(columns='grouping_variable_col', values='value_to_aggregate', index='grouping_variable_row')\n",
    "</b>\n",
    "\n",
    "The pivot_table() function can be used to also specify the <b>aggregate function</b> that you would want Pandas to execute over the columns that are provided. It could be the same or different for each column in the DataFrame. <br>\n",
    "You can write the pivot_table command as shown below:\n",
    "\n",
    "<b>df.pivot_table(values, index, aggfunc={'value_1': np.mean,'value_2': [min, max, np.mean]})</b>"
   ]
  },
  {
   "cell_type": "markdown",
   "id": "f5539468",
   "metadata": {},
   "source": [
    "### Dataframe Pivot Table\n",
    "Description - Group the data 'df' by 'month' and 'day' and find the mean value for column 'rain' and 'wind' using the pivot table command."
   ]
  },
  {
   "cell_type": "code",
   "execution_count": 2,
   "id": "e4577b09",
   "metadata": {},
   "outputs": [
    {
     "name": "stdout",
     "output_type": "stream",
     "text": [
      "               rain      wind\n",
      "month day                    \n",
      "apr   fri  0.000000  3.100000\n",
      "      mon  0.000000  3.100000\n",
      "      sat  0.000000  4.500000\n",
      "      sun  0.000000  5.666667\n",
      "      thu  0.000000  5.800000\n",
      "      wed  0.000000  2.700000\n",
      "aug   fri  0.066667  4.766667\n",
      "      mon  0.000000  2.873333\n",
      "      sat  0.000000  4.310345\n",
      "      sun  0.025000  4.417500\n",
      "      thu  0.000000  3.503846\n",
      "      tue  0.300000  4.567857\n",
      "      wed  0.000000  3.520000\n",
      "dec   fri  0.000000  4.900000\n",
      "      mon  0.000000  8.500000\n",
      "      sun  0.000000  8.500000\n",
      "      thu  0.000000  4.900000\n",
      "      tue  0.000000  8.500000\n",
      "      wed  0.000000  8.000000\n",
      "feb   fri  0.000000  4.820000\n"
     ]
    }
   ],
   "source": [
    "import numpy as np\n",
    "import pandas as pd\n",
    "df = pd.read_csv('https://cdn.upgrad.com/uploads/production/b3467ba4-4e13-44e9-8087-4d7e94cc7586/forestfires.csv')\n",
    "df_1 = df.pivot_table(index=[\"month\",\"day\"],values=[\"rain\",\"wind\"], aggfunc=\"mean\") \n",
    "print(df_1.head(20))"
   ]
  },
  {
   "cell_type": "markdown",
   "id": "85458bbb",
   "metadata": {},
   "source": [
    "<hr><hr>"
   ]
  }
 ],
 "metadata": {
  "kernelspec": {
   "display_name": "Python 3 (ipykernel)",
   "language": "python",
   "name": "python3"
  },
  "language_info": {
   "codemirror_mode": {
    "name": "ipython",
    "version": 3
   },
   "file_extension": ".py",
   "mimetype": "text/x-python",
   "name": "python",
   "nbconvert_exporter": "python",
   "pygments_lexer": "ipython3",
   "version": "3.9.7"
  }
 },
 "nbformat": 4,
 "nbformat_minor": 5
}
