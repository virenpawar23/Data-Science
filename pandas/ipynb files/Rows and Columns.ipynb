{
 "cells": [
  {
   "cell_type": "markdown",
   "id": "6b8884a0",
   "metadata": {},
   "source": [
    "### 1. Setting the Index\n",
    "Which of the following functions is used to change the name of an existing index in a dataframe?\n",
    "\n",
    "Answer:-<br>\n",
    "<b>df.index.name</b>"
   ]
  },
  {
   "cell_type": "markdown",
   "id": "69b44919",
   "metadata": {},
   "source": [
    "<hr>\n",
    "\n",
    "### Coding\n",
    "#### Loading a csv with index\n",
    "Description\n",
    "Using the file ‘marks.csv’, create a dataframe as shown below.\n",
    "You must be able make the first column of the file as the index and name it 'S.No.'. Also, the columns must be renamed as shown in the image."
   ]
  },
  {
   "cell_type": "code",
   "execution_count": 2,
   "id": "89187a7d",
   "metadata": {},
   "outputs": [
    {
     "name": "stdout",
     "output_type": "stream",
     "text": [
      "          Name      Subject  Maximum Marks  Marks Obtained  Percentage\n",
      "S.No.                                                                 \n",
      "1       Akshay  Mathematics             50              40          80\n",
      "2       Mahima      English             40              33          83\n",
      "3        Vikas  Mathematics             50              42          84\n",
      "4      Abhinav      English             40              31          78\n",
      "5       Mahima      Science             50              40          80\n",
      "6       Akshay      Science             50              49          98\n",
      "7      Abhinav  Mathematics             50              47          94\n",
      "8        Vikas      Science             50              40          80\n",
      "9      Abhinav      Science             50              47          94\n",
      "10       Vikas      English             40              39          98\n",
      "11      Akshay      English             40              35          88\n",
      "12      Mahima  Mathematics             50              43          86\n"
     ]
    }
   ],
   "source": [
    "import numpy as np\n",
    "import pandas as pd\n",
    "\n",
    "df = pd.read_csv(\"https://media-doselect.s3.amazonaws.com/generic/A08MajL8qN4rq72EpVJbAP1Rw/marks_1.csv\",sep='|',header=None,index_col=0)\n",
    "df.index.name = 'S.No.'\n",
    "df.columns = [\"Name\",\"Subject\",\"Maximum Marks\", \"Marks Obtained\", \"Percentage\"]\n",
    "print(df)"
   ]
  },
  {
   "cell_type": "markdown",
   "id": "baaa35c0",
   "metadata": {},
   "source": [
    "<hr>\n",
    "<hr>"
   ]
  }
 ],
 "metadata": {
  "kernelspec": {
   "display_name": "Python 3 (ipykernel)",
   "language": "python",
   "name": "python3"
  },
  "language_info": {
   "codemirror_mode": {
    "name": "ipython",
    "version": 3
   },
   "file_extension": ".py",
   "mimetype": "text/x-python",
   "name": "python",
   "nbconvert_exporter": "python",
   "pygments_lexer": "ipython3",
   "version": "3.9.7"
  }
 },
 "nbformat": 4,
 "nbformat_minor": 5
}
