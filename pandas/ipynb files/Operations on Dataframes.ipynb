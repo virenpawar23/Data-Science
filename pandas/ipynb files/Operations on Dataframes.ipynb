{
 "cells": [
  {
   "cell_type": "markdown",
   "id": "203c3bbf",
   "metadata": {},
   "source": [
    "### Employee Training"
   ]
  },
  {
   "cell_type": "code",
   "execution_count": 1,
   "id": "42df4326",
   "metadata": {},
   "outputs": [
    {
     "name": "stdout",
     "output_type": "stream",
     "text": [
      "      ID Department     Office  Rating Training\n",
      "0  U2F26    Finance  New Delhi     3.4      Yes\n",
      "1  U2M61  Marketing  New Delhi     3.9       No\n",
      "2  U1S15      Sales  New Delhi     2.8      Yes\n",
      "3  U1H87         HR     Mumbai     2.1      Yes\n",
      "4  U1S51      Sales  New Delhi     4.6       No\n"
     ]
    }
   ],
   "source": [
    "import numpy as np\n",
    "import pandas as pd\n",
    "\n",
    "df = pd.read_csv('https://media-doselect.s3.amazonaws.com/generic/NMgEjwkAEGGQZBoNYGr9Ld7w0/rating.csv')\n",
    "df[\"Training\"] = df[\"Rating\"].apply(lambda x: \"Yes\" if x<=3.5 else \"No\")\n",
    "\n",
    "print(df.head())"
   ]
  },
  {
   "cell_type": "markdown",
   "id": "9ea60b26",
   "metadata": {},
   "source": [
    "<hr>"
   ]
  },
  {
   "cell_type": "markdown",
   "id": "a91dc2c3",
   "metadata": {},
   "source": [
    "### Dataframe\n",
    "In the dataframe created above, find the department that has the most efficient team (the team with minimum percentage of employees who need training)."
   ]
  },
  {
   "cell_type": "code",
   "execution_count": 8,
   "id": "e6ad33f3",
   "metadata": {},
   "outputs": [
    {
     "data": {
      "text/plain": [
       "Department\n",
       "Finance      67\n",
       "HR           56\n",
       "Marketing    74\n",
       "Sales        66\n",
       "Name: Training, dtype: int64"
      ]
     },
     "execution_count": 8,
     "metadata": {},
     "output_type": "execute_result"
    }
   ],
   "source": [
    "dept_groups = df[df[\"Training\"]==\"Yes\"].groupby(\"Department\")[\"Training\"].count()\n",
    "dept_groups"
   ]
  },
  {
   "cell_type": "markdown",
   "id": "47acc002",
   "metadata": {},
   "source": [
    "<hr>\n",
    "<hr>"
   ]
  }
 ],
 "metadata": {
  "kernelspec": {
   "display_name": "Python 3 (ipykernel)",
   "language": "python",
   "name": "python3"
  },
  "language_info": {
   "codemirror_mode": {
    "name": "ipython",
    "version": 3
   },
   "file_extension": ".py",
   "mimetype": "text/x-python",
   "name": "python",
   "nbconvert_exporter": "python",
   "pygments_lexer": "ipython3",
   "version": "3.9.7"
  }
 },
 "nbformat": 4,
 "nbformat_minor": 5
}
