{
 "cells": [
  {
   "cell_type": "markdown",
   "id": "39ee7816",
   "metadata": {},
   "source": [
    "#### Most Commonly used functions: -\n",
    "1. np.ones(): It is used to create an array of 1s.\n",
    "2. np.zeros(): It is used to create an array of 0s.\n",
    "3. np.random.randint(): It is used to create a random array of integers within a particular range.\n",
    "4. np.random.random(): It is used to create an array of random numbers.\n",
    "5. np.arange(): It is used to create an array with increments of fixed step size.\n",
    "6. np.linspace(): It is used to create an array of fixed length.\n",
    "7. np.full(): It is used to create a constant array of any number ‘n’.\n",
    "8. np.tile(): It is used to create a new array by repeating an existing array for a particular number of times.\n",
    "9. np.eye(): It is used to create an identity matrix of any dimension"
   ]
  },
  {
   "cell_type": "markdown",
   "id": "258198cc",
   "metadata": {},
   "source": [
    "<hr>"
   ]
  },
  {
   "cell_type": "markdown",
   "id": "2c93bf3c",
   "metadata": {},
   "source": [
    "#### Array 'arange' Function\n",
    "Description - Create an array of first 10 multiples of 5 using the 'arange' function."
   ]
  },
  {
   "cell_type": "code",
   "execution_count": 1,
   "id": "23f13a53",
   "metadata": {},
   "outputs": [
    {
     "name": "stdout",
     "output_type": "stream",
     "text": [
      "[ 5 10 15 20 25 30 35 40 45 50]\n"
     ]
    }
   ],
   "source": [
    "import numpy as np\n",
    "array_multipleof5 = np.arange(5,55,5)\n",
    "\n",
    "print(array_multipleof5)"
   ]
  },
  {
   "cell_type": "markdown",
   "id": "6ef14272",
   "metadata": {},
   "source": [
    "<hr>"
   ]
  },
  {
   "cell_type": "markdown",
   "id": "e295d7a1",
   "metadata": {},
   "source": [
    "### Create border array\n",
    "Description\n",
    "Given a single integer n, create an (n x n) 2D array with 1 on the border and 0 on the inside.\n",
    "\n",
    "Note: Make sure the array is of type int.\n"
   ]
  },
  {
   "cell_type": "code",
   "execution_count": 2,
   "id": "d4ae2efd",
   "metadata": {},
   "outputs": [
    {
     "name": "stdout",
     "output_type": "stream",
     "text": [
      "2\n",
      "[[1 1]\n",
      " [1 1]]\n"
     ]
    }
   ],
   "source": [
    "n = int(input())\n",
    "\n",
    "import numpy as np\n",
    "matrix = np.ones((n,n),dtype=int)\n",
    "matrix[1:-1,1:-1]=0\n",
    "print(matrix)\n"
   ]
  },
  {
   "cell_type": "markdown",
   "id": "648978cf",
   "metadata": {},
   "source": [
    "<hr>\n",
    "<hr>"
   ]
  }
 ],
 "metadata": {
  "kernelspec": {
   "display_name": "Python 3 (ipykernel)",
   "language": "python",
   "name": "python3"
  },
  "language_info": {
   "codemirror_mode": {
    "name": "ipython",
    "version": 3
   },
   "file_extension": ".py",
   "mimetype": "text/x-python",
   "name": "python",
   "nbconvert_exporter": "python",
   "pygments_lexer": "ipython3",
   "version": "3.9.7"
  }
 },
 "nbformat": 4,
 "nbformat_minor": 5
}
