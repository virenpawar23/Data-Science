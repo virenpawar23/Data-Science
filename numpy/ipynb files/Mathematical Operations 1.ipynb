{
 "cells": [
  {
   "cell_type": "code",
   "execution_count": 1,
   "id": "dce92cb1",
   "metadata": {},
   "outputs": [],
   "source": [
    "import numpy as np"
   ]
  },
  {
   "cell_type": "markdown",
   "id": "93dfc62c",
   "metadata": {},
   "source": [
    "### 1. Index of the 100th Element\n",
    "Consider an (11,12) shape array. What is the index (x,y) of the 100th element? Note: For counting the elements, go row-wise. For example, in the array:\n",
    "\n",
    "[[1, 5, 9],\n",
    " [3, 0, 2]]\n",
    "the 5th element would be '0'.\n",
    "\n",
    "Answer:-<br>\n",
    "<b>(8,3)</b>"
   ]
  },
  {
   "cell_type": "markdown",
   "id": "9bb9cab6",
   "metadata": {},
   "source": [
    "Alternative 1 -"
   ]
  },
  {
   "cell_type": "code",
   "execution_count": 2,
   "id": "7f8b13ac",
   "metadata": {},
   "outputs": [
    {
     "data": {
      "text/plain": [
       "(8, 3)"
      ]
     },
     "execution_count": 2,
     "metadata": {},
     "output_type": "execute_result"
    }
   ],
   "source": [
    "np.unravel_index(99, (11,12))  # indexing starts from 0 so 100th element is 99"
   ]
  },
  {
   "cell_type": "markdown",
   "id": "71162f29",
   "metadata": {},
   "source": [
    "Alternative 2 -"
   ]
  },
  {
   "cell_type": "code",
   "execution_count": 3,
   "id": "f51c9a01",
   "metadata": {},
   "outputs": [
    {
     "data": {
      "text/plain": [
       "array([[8, 3]], dtype=int64)"
      ]
     },
     "execution_count": 3,
     "metadata": {},
     "output_type": "execute_result"
    }
   ],
   "source": [
    "arr1 = np.arange(1,(11*12)+1).reshape(11,12)\n",
    "np.argwhere(arr1==100)"
   ]
  },
  {
   "cell_type": "markdown",
   "id": "66a6d3b3",
   "metadata": {},
   "source": [
    "### 2. Reshaping an Array\n",
    "Suppose you have an array 'p':\n",
    "\n",
    "[[1, 5],\n",
    " [3, 7],\n",
    " [4, 9]]\n",
    "What will be the output of the following code?\n",
    "np.reshape(p, -1)\n",
    "\n",
    "Answer:-<br>\n",
    "<b>1-d array</b>"
   ]
  },
  {
   "cell_type": "markdown",
   "id": "e7667c79",
   "metadata": {},
   "source": [
    "### 3. Reshaping an Array\n",
    "Consider the array provided below: \n",
    "\n",
    "[[1, 2, 3, 4, 5]\n",
    " [6, 7, 8, 9, 10]\n",
    " [11, 12, 13, 14, 15]\n",
    " [16, 17, 18, 19, 20]]\n",
    " \n",
    "Now, you are expected to generate the following array out of it:\n",
    "\n",
    "[[1, 3]\n",
    " [5, 7]\n",
    " [9, 11]\n",
    " [13, 15]\n",
    " [17, 19]]\n",
    " \n",
    "Which code will give you the correct output?\n",
    "(Hint: Also check if one or more options are correct.)\n",
    "\n",
    "Answer:-<br>\n",
    "<b>print(array_1[array_1%2 != 0].reshape(5, 2))</b>"
   ]
  },
  {
   "cell_type": "code",
   "execution_count": 4,
   "id": "2877a5c1",
   "metadata": {},
   "outputs": [
    {
     "name": "stdout",
     "output_type": "stream",
     "text": [
      "[[ 1  3]\n",
      " [ 5  7]\n",
      " [ 9 11]\n",
      " [13 15]\n",
      " [17 19]]\n"
     ]
    }
   ],
   "source": [
    "array_1 = np.array([[1, 2, 3, 4, 5],[6, 7, 8, 9, 10],[11, 12, 13, 14, 15],[16, 17, 18, 19, 20]])\n",
    "print(array_1[array_1%2 != 0].reshape(5, 2))"
   ]
  },
  {
   "cell_type": "markdown",
   "id": "ea24a109",
   "metadata": {},
   "source": [
    "### 4. Reshaping an array\n",
    "Suppose you have an array 'p'\n",
    "\n",
    "[[1, 5],\n",
    " [3, 7],\n",
    " [4, 9]]\n",
    "What will be the output of the following code?\n",
    "\n",
    "np.reshape(p, (1, -1))\n",
    "\n",
    "Answer:-<br>\n",
    "<b>2-D Array</b>"
   ]
  },
  {
   "cell_type": "markdown",
   "id": "249c0446",
   "metadata": {},
   "source": [
    "<hr>\n",
    "\n",
    "## Coding\n",
    "### Stacking arrays\n",
    "Description - Merge the three arrays provided to you to form a one 4x4 array."
   ]
  },
  {
   "cell_type": "code",
   "execution_count": 5,
   "id": "23a7b7a8",
   "metadata": {},
   "outputs": [
    {
     "name": "stdout",
     "output_type": "stream",
     "text": [
      "[[[7, 13, 14], [18, 10, 17], [11, 12, 19]], [16, 6, 1], [[5, 8, 4, 3]]]\n",
      "[[ 7 13 14  5]\n",
      " [18 10 17  8]\n",
      " [11 12 19  4]\n",
      " [16  6  1  3]]\n"
     ]
    }
   ],
   "source": [
    "import ast\n",
    "import numpy as np\n",
    "\n",
    "input_str = input()\n",
    "input_list = ast.literal_eval(input_str)\n",
    "list_1 = input_list[0]\n",
    "list_2 = input_list[1]\n",
    "list_3 = input_list[2]\n",
    "\n",
    "final_array = np.hstack((np.vstack((list_1,list_2)),np.transpose(list_3)))\n",
    "print(final_array)\n"
   ]
  },
  {
   "cell_type": "markdown",
   "id": "dbe6bc7d",
   "metadata": {},
   "source": [
    "<hr>\n",
    "<hr>"
   ]
  }
 ],
 "metadata": {
  "kernelspec": {
   "display_name": "Python 3 (ipykernel)",
   "language": "python",
   "name": "python3"
  },
  "language_info": {
   "codemirror_mode": {
    "name": "ipython",
    "version": 3
   },
   "file_extension": ".py",
   "mimetype": "text/x-python",
   "name": "python",
   "nbconvert_exporter": "python",
   "pygments_lexer": "ipython3",
   "version": "3.9.7"
  }
 },
 "nbformat": 4,
 "nbformat_minor": 5
}
