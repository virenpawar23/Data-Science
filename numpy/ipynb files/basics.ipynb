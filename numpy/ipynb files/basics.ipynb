{
 "cells": [
  {
   "cell_type": "markdown",
   "id": "4a99a703",
   "metadata": {},
   "source": [
    "### 1. Creating an Array\n",
    "Select the correct option to create a 1-d array using the following elements (1.0, 2, 3.5, 0.2, True). \n",
    "(Note that ‘True’ must be provided as a Boolean value, not as a string.)\n",
    "\n",
    "Answer:- <br>\n",
    "<b>np.array( [1.0, 2, 3.5, 0.2, True] )</b>"
   ]
  },
  {
   "cell_type": "markdown",
   "id": "8590ef27",
   "metadata": {},
   "source": [
    "### 2. NumPy Array\n",
    "What is the default data type of each element in the array created in the previous question?\n",
    "\n",
    "Answer:- <br>\n",
    "<b>Float</b>"
   ]
  },
  {
   "cell_type": "markdown",
   "id": "31da4363",
   "metadata": {},
   "source": [
    "### 3. Creating an array\n",
    "Is it possible to create an array from a tuple?\n",
    "\n",
    "Answer:- <br>\n",
    "<b>Yes.</b> \n",
    "    (NumPy arrays can be created using a tuple. Any sequence that has an array-like structure can be passed to the np.array function.)"
   ]
  }
 ],
 "metadata": {
  "kernelspec": {
   "display_name": "Python 3 (ipykernel)",
   "language": "python",
   "name": "python3"
  },
  "language_info": {
   "codemirror_mode": {
    "name": "ipython",
    "version": 3
   },
   "file_extension": ".py",
   "mimetype": "text/x-python",
   "name": "python",
   "nbconvert_exporter": "python",
   "pygments_lexer": "ipython3",
   "version": "3.9.7"
  }
 },
 "nbformat": 4,
 "nbformat_minor": 5
}
