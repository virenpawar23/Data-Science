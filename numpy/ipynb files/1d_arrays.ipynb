{
 "cells": [
  {
   "cell_type": "markdown",
   "id": "4eacb68b",
   "metadata": {},
   "source": [
    "### 1.Indexing Array\n",
    "Given an array:\n",
    "\n",
    "array_1 = [1,2,3,5,4,6,7,8,5,3,2]\n",
    "What will be the output of the code provided below?\n",
    "\n",
    "print(array_1[:3])\n",
    "\n",
    "Answer:-<br>\n",
    "<b>\n",
    "[1, 2, 3]\n",
    "</b>"
   ]
  },
  {
   "cell_type": "markdown",
   "id": "3e65afa0",
   "metadata": {},
   "source": [
    "### 2. Indexing Array\n",
    "Given an array:\n",
    "\n",
    "array_1 = [1,2,3,5,4,6,7,8,5,3,2]\n",
    "What will be the output of the code provided below?\n",
    "\n",
    "print(array_1[2:-3])\n",
    "\n",
    "Answer:-<br>\n",
    "<b>\n",
    "[3 5 4 6 7 8]\n",
    "</b>"
   ]
  },
  {
   "cell_type": "markdown",
   "id": "0317c382",
   "metadata": {},
   "source": [
    "### 3. Indexing Array\n",
    "Given an array:\n",
    "\n",
    "array_1 = [1,2,3,5,4,6,7,8,5,3,2]\n",
    "What will be the output of the code provided below?\n",
    "(Hint: The syntax is [starting value : end value : step value])\n",
    "\n",
    "print(array_1[ : : -2])\n",
    "\n",
    "Answer:-<br>\n",
    "<b>[2, 5, 7, 4, 3, 1]</b>"
   ]
  },
  {
   "cell_type": "markdown",
   "id": "a13d318b",
   "metadata": {},
   "source": [
    "### 4. Indexing Array\n",
    "How would you extract all the elements with an odd index in a given array?\n",
    "(Hint: Odd index refers to the position of the element, not the actual value)\n",
    "\n",
    "Answer:-<br>\n",
    "<b>array[1: : 2]</b>m"
   ]
  },
  {
   "cell_type": "markdown",
   "id": "d6f273fc",
   "metadata": {},
   "source": [
    "<hr>"
   ]
  },
  {
   "cell_type": "markdown",
   "id": "d1f912b8",
   "metadata": {},
   "source": [
    "### Coding part\n",
    "#### Extracting Elements from Array"
   ]
  },
  {
   "cell_type": "code",
   "execution_count": 5,
   "id": "9729b409",
   "metadata": {},
   "outputs": [
    {
     "name": "stdout",
     "output_type": "stream",
     "text": [
      "[ 1, 5, 9, 12, 15, 7, 12, 9 ]\n",
      "12\n",
      "6\n",
      "[]\n"
     ]
    }
   ],
   "source": [
    "import ast \n",
    "input_list=ast.literal_eval(input())\n",
    "m=int(input())\n",
    "n=int(input())\n",
    "\n",
    "import numpy as np\n",
    "array_1 = np.array(input_list)\n",
    "final_array = array_1[np.where((array_1>m) & (array_1<n),True,False)]\n",
    "\n",
    "print(final_array)"
   ]
  }
 ],
 "metadata": {
  "kernelspec": {
   "display_name": "Python 3 (ipykernel)",
   "language": "python",
   "name": "python3"
  },
  "language_info": {
   "codemirror_mode": {
    "name": "ipython",
    "version": 3
   },
   "file_extension": ".py",
   "mimetype": "text/x-python",
   "name": "python",
   "nbconvert_exporter": "python",
   "pygments_lexer": "ipython3",
   "version": "3.9.7"
  }
 },
 "nbformat": 4,
 "nbformat_minor": 5
}
