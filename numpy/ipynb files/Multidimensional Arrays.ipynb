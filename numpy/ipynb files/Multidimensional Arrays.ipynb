{
 "cells": [
  {
   "cell_type": "markdown",
   "id": "6fa1df34",
   "metadata": {},
   "source": [
    "### 1. Slicing Arrays\n",
    "Which of the following would extract all the rows of the first 3 columns in a 2D array?\n",
    "\n",
    "\n",
    "array_name[ : , :2]\n",
    "\n",
    "array_name[( : , :2)] \n",
    "\n",
    "array_name[ : , :3]\n",
    "\n",
    "array_name[( : , :3)]\n",
    "\n",
    "Answer:-<br>\n",
    "<b>array_name[ : , :3]</b>"
   ]
  },
  {
   "cell_type": "markdown",
   "id": "1d40b17d",
   "metadata": {},
   "source": [
    "<hr>\n",
    "\n",
    "### Coding\n",
    "#### Border Rows and Columns\n",
    "Description -Extract all the border rows and columns from a 2-D array."
   ]
  },
  {
   "cell_type": "code",
   "execution_count": 7,
   "id": "56d8322b",
   "metadata": {},
   "outputs": [
    {
     "name": "stdout",
     "output_type": "stream",
     "text": [
      "[[11,12,13,14],[21,22,23,24],[31,32,33,34]]\n",
      "[11 21 31]\n",
      "[11 12 13 14]\n",
      "[14 24 34]\n",
      "[31 32 33 34]\n"
     ]
    }
   ],
   "source": [
    "import ast\n",
    "input_str = input()\n",
    "input_list = ast.literal_eval(input_str)\n",
    "\n",
    "import numpy as np\n",
    "\n",
    "# Convert the input list to a NumPy array\n",
    "array_2d =np.array(input_list)\n",
    "\n",
    "# Extract the first column, first row, last column and last row respectively using\n",
    "# appropriate indexing\n",
    "col_first = array_2d[:,0]\n",
    "row_first = array_2d[0]\n",
    "col_last = array_2d[:,-1]\n",
    "row_last = array_2d[-1]\n",
    "\n",
    "print(col_first)\n",
    "print(row_first)\n",
    "print(col_last)\n",
    "print(row_last)"
   ]
  },
  {
   "cell_type": "markdown",
   "id": "f3ae3c6b",
   "metadata": {},
   "source": [
    "<hr>\n",
    "<hr>"
   ]
  }
 ],
 "metadata": {
  "kernelspec": {
   "display_name": "Python 3 (ipykernel)",
   "language": "python",
   "name": "python3"
  },
  "language_info": {
   "codemirror_mode": {
    "name": "ipython",
    "version": 3
   },
   "file_extension": ".py",
   "mimetype": "text/x-python",
   "name": "python",
   "nbconvert_exporter": "python",
   "pygments_lexer": "ipython3",
   "version": "3.9.7"
  }
 },
 "nbformat": 4,
 "nbformat_minor": 5
}
